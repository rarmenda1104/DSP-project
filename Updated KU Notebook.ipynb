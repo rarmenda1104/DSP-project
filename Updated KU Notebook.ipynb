{
 "cells": [
  {
   "cell_type": "code",
   "execution_count": 1,
   "metadata": {},
   "outputs": [],
   "source": [
    "import pandas as pd\n",
    "import numpy as np\n",
    "import glob\n",
    "import os\n",
    "import matplotlib.pyplot as plt\n",
    "import datetime\n",
    "import json\n",
    "from pandas.io.json import json_normalize\n",
    "import csv\n",
    "\n",
    "from IPython.core.interactiveshell import InteractiveShell\n",
    "InteractiveShell.ast_node_interactivity = \"all\"\n",
    "\n",
    "pd.options.display.max_columns = 999\n",
    "pd.set_option('display.max_row', 1000)"
   ]
  },
  {
   "cell_type": "code",
   "execution_count": null,
   "metadata": {},
   "outputs": [],
   "source": [
    "pin = pd.read_csv('API Reports/report_dataset1.tsv',sep = '\\t')\n",
    "\n",
    "cel_cdl  = pd.read_csv('API Reports/report_dataset2.tsv',sep = '\\t')\n",
    "\n",
    "rw = pd.read_csv('API Reports/report_dataset3.tsv',sep = '\\t')\n",
    "\n",
    "zp = pd.read_csv('API Reports/report_dataset4.tsv',sep = '\\t')\n",
    "\n",
    "px = pd.read_csv('API Reports/report_dataset5.tsv',sep = '\\t',lineterminator='\\n')\n",
    "\n",
    "zp['Date'] = pd.to_datetime(zp['Date'])\n",
    "px['Local Date'] = pd.to_datetime(px['Local Date'])\n",
    "pin['Date'] = pd.to_datetime(pin['Date'])\n",
    "\n",
    "\n",
    "zp = zp[~((zp['Polygon ID']==\"McDonald's 6676, Chicago, IL | 98504\") & (zp['Date'] < '2018-08-01'))]\n",
    "px = px[~((px['Study Polygon'] == \"McDonald's 6676, Chicago, IL | 98504\")&(px['Local Date'] < '2018-08-01'))]\n",
    "pin = pin[~((pin['Polygon ID'] == \"McDonald's 6676, Chicago, IL | 98504\")&(pin['Date'] < '2018-08-01'))]\n",
    "\n",
    "filtered_zp = zp[~(zp['UDID'].isin(rw['Device ID']))]\n",
    "filtered_px = px[~(px['UDID'].isin(rw['Device ID']))]\n",
    "filtered_pin = pin[~(pin['UDID'].isin(rw['Device ID']))]\n",
    "filtered_cel_cdl = cel_cdl[~(cel_cdl['UDID'].isin(rw['Device ID']))]\n",
    "\n",
    "\n",
    "filtered_zp['Time of Day'] = pd.to_timedelta(filtered_zp['Time of Day'])\n",
    "filtered_px['Local Time of Day'] = pd.to_timedelta(filtered_px['Local Time of Day'])"
   ]
  },
  {
   "cell_type": "code",
   "execution_count": 3,
   "metadata": {},
   "outputs": [],
   "source": [
    "starting_devices = filtered_zp.groupby(['UDID','Date']).count().reset_index()\n",
    "\n",
    "unknowns = starting_devices[starting_devices['Unix Timestamp of Visit'] < 2]\n",
    "dine_in = starting_devices[starting_devices['Unix Timestamp of Visit'] >= 2]"
   ]
  },
  {
   "cell_type": "code",
   "execution_count": 4,
   "metadata": {},
   "outputs": [],
   "source": [
    "starting_devices_list = starting_devices['UDID'].drop_duplicates().tolist()"
   ]
  },
  {
   "cell_type": "code",
   "execution_count": 5,
   "metadata": {},
   "outputs": [
    {
     "data": {
      "text/plain": [
       "Portillos,  Chicago,  IL | 7962939                            179610\n",
       "McDonald's 6676, Chicago, IL | 98504                          161991\n",
       "Maggiano's Little Italy 207, Chicago, IL | 4392516             52033\n",
       "Tempo Cafe,  Chicago,  IL | 7962942                            48508\n",
       "TGI Fridays 2668 - Chicago - Erie St, Chicago, IL | 390511     40330\n",
       "Lou Malnatis,  Chicago,  IL | 7962940                          26800\n",
       "Velvet Taco,  Chicago,  IL | 7962941                           25686\n",
       "Seoul Taco,  Chicago,  IL | 7962943                            20561\n",
       "Hooters 231 - Chicago - Wells St., Chicago, IL | 3519707       15294\n",
       "The Halal Guys,  Chicago,  IL | 7962944                         8424\n",
       "Name: Polygon ID, dtype: int64"
      ]
     },
     "execution_count": 5,
     "metadata": {},
     "output_type": "execute_result"
    }
   ],
   "source": [
    "filtered_zp['Polygon ID'].value_counts()"
   ]
  },
  {
   "cell_type": "code",
   "execution_count": 6,
   "metadata": {},
   "outputs": [
    {
     "data": {
      "text/plain": [
       "59817"
      ]
     },
     "execution_count": 6,
     "metadata": {},
     "output_type": "execute_result"
    },
    {
     "data": {
      "text/plain": [
       "40836"
      ]
     },
     "execution_count": 6,
     "metadata": {},
     "output_type": "execute_result"
    },
    {
     "data": {
      "text/plain": [
       "26095"
      ]
     },
     "execution_count": 6,
     "metadata": {},
     "output_type": "execute_result"
    }
   ],
   "source": [
    "filtered_zp['UDID'].nunique()\n",
    "dine_in['UDID'].nunique()\n",
    "unknowns['UDID'].nunique()"
   ]
  },
  {
   "cell_type": "markdown",
   "metadata": {},
   "source": [
    "# Device Sets:\n",
    "\n",
    "\n",
    "\n",
    "* 59,817 devices in total\n",
    "* 40,846 devices to start with\n",
    "* 26,095 devices to determine if they were seen in dine in areas. Devices that arent filtered belong in unknown category\n"
   ]
  },
  {
   "cell_type": "code",
   "execution_count": 7,
   "metadata": {},
   "outputs": [],
   "source": [
    "customer_devices = dine_in['UDID'].drop_duplicates().tolist()"
   ]
  },
  {
   "cell_type": "code",
   "execution_count": 8,
   "metadata": {},
   "outputs": [],
   "source": [
    "# Filter reports further with customer_device list\n",
    "\n",
    "filtered_zp = zp[zp['UDID'].isin(customer_devices)]\n",
    "filtered_px = px[px['UDID'].isin(customer_devices)]\n",
    "filtered_pin = pin[pin['UDID'].isin(customer_devices)]\n",
    "filtered_cel_cdl = cel_cdl[cel_cdl['UDID'].isin(customer_devices)]"
   ]
  },
  {
   "cell_type": "code",
   "execution_count": 9,
   "metadata": {},
   "outputs": [
    {
     "name": "stdout",
     "output_type": "stream",
     "text": [
      "<class 'pandas.core.frame.DataFrame'>\n",
      "Int64Index: 55830 entries, 1 to 82948\n",
      "Data columns (total 16 columns):\n",
      "Polygon Name               55830 non-null object\n",
      "Unhashed Device Id         55830 non-null object\n",
      "Common Evening Lat         53754 non-null float64\n",
      "Common Evening Long        53754 non-null float64\n",
      "Common Evening Country     53718 non-null object\n",
      "Common Evening State       52369 non-null object\n",
      "Common Evening Zip         52735 non-null object\n",
      "Common Evening Census      52919 non-null object\n",
      "Common Evening Distance    53754 non-null float64\n",
      "Common Daytime Lat         50857 non-null float64\n",
      "Common Daytime Long        50857 non-null float64\n",
      "Common Daytime Country     50818 non-null object\n",
      "Common Daytime State       49578 non-null object\n",
      "Common Daytime Zip         49924 non-null object\n",
      "Common Daytime Census      50097 non-null object\n",
      "Common Daytime Distance    50857 non-null float64\n",
      "dtypes: float64(6), object(10)\n",
      "memory usage: 7.2+ MB\n"
     ]
    }
   ],
   "source": [
    "filtered_cel_cdl.info()"
   ]
  },
  {
   "cell_type": "code",
   "execution_count": 10,
   "metadata": {},
   "outputs": [],
   "source": [
    "zero_1st = filtered_px.drop_duplicates(subset = ['UDID','Local Date',\n",
    "                                                 'Time before appearance in polygon'], keep = 'first')\n",
    "\n",
    "zero_last = filtered_px.drop_duplicates(subset = ['UDID','Local Date',\n",
    "                                                 'Time before appearance in polygon'], keep = 'last')\n"
   ]
  },
  {
   "cell_type": "code",
   "execution_count": 11,
   "metadata": {},
   "outputs": [],
   "source": [
    "zero_1st = zero_1st[zero_1st['Time before appearance in polygon'] == 0]\n",
    "zero_last = zero_last[zero_last['Time before appearance in polygon'] == 0]"
   ]
  },
  {
   "cell_type": "code",
   "execution_count": 12,
   "metadata": {},
   "outputs": [],
   "source": [
    "zero_1st.drop(['Lat of Observation Point','Lon of Observation Point','Unix Timestamp of Observation Point',\n",
    "             'Local Day of Week','Local Timezone of Observation Point','Polygon Id',\n",
    "             'Polygon Name','Category'], axis = 1, inplace = True)\n",
    "\n",
    "zero_last.drop(['Lat of Observation Point','Lon of Observation Point','Unix Timestamp of Observation Point',\n",
    "             'Local Day of Week','Local Timezone of Observation Point','Polygon Id',\n",
    "             'Polygon Name','Category'], axis = 1, inplace = True)"
   ]
  },
  {
   "cell_type": "code",
   "execution_count": 19,
   "metadata": {
    "scrolled": true
   },
   "outputs": [],
   "source": [
    "dwell_time = zero_1st.merge(zero_last,how = 'inner',on = ['Study Polygon','UDID','Local Date'])"
   ]
  },
  {
   "cell_type": "code",
   "execution_count": 20,
   "metadata": {},
   "outputs": [],
   "source": [
    "dwell_time.drop(['Time before appearance in polygon_x','Time before appearance in polygon_y'],\n",
    "               axis = 1, inplace = True)\n",
    "dwell_time.rename(columns= {'Local Time of Day_x':'Initial PIP Time','Local Time of Day_y':'Final PIP Time'},\n",
    "                 inplace = True)"
   ]
  },
  {
   "cell_type": "code",
   "execution_count": 21,
   "metadata": {},
   "outputs": [],
   "source": [
    "dwell_time['Initial PIP Time'] = pd.to_timedelta(dwell_time['Initial PIP Time'])\n",
    "dwell_time['Final PIP Time'] = pd.to_timedelta(dwell_time['Final PIP Time'])"
   ]
  },
  {
   "cell_type": "code",
   "execution_count": 22,
   "metadata": {},
   "outputs": [],
   "source": [
    "dwell_time['Time in Point'] = dwell_time['Final PIP Time'] - dwell_time['Initial PIP Time']"
   ]
  },
  {
   "cell_type": "code",
   "execution_count": 23,
   "metadata": {},
   "outputs": [],
   "source": [
    "TO_DD_dwell = dwell_time[(dwell_time['Time in Point'] <= '00:07:00') & (dwell_time['Time in Point'] > '00:00:30')]"
   ]
  },
  {
   "cell_type": "code",
   "execution_count": 24,
   "metadata": {},
   "outputs": [],
   "source": [
    "dine_in_dwell = dwell_time[(dwell_time['Time in Point'] > '00:07:00') & (dwell_time['Time in Point'] <= '02:00:00')]\n",
    "double_visits = dwell_time[dwell_time['Time in Point'] > '02:00:00']"
   ]
  },
  {
   "cell_type": "code",
   "execution_count": 25,
   "metadata": {},
   "outputs": [],
   "source": [
    "unknown_dwell = dwell_time[dwell_time['Time in Point'] <= '00:00:30']"
   ]
  },
  {
   "cell_type": "code",
   "execution_count": 26,
   "metadata": {
    "scrolled": true
   },
   "outputs": [],
   "source": [
    "TO_DD_dwell = TO_DD_dwell[TO_DD_dwell['UDID'].isin(starting_devices_list)]\n",
    "dine_in_dwell = dine_in_dwell[dine_in_dwell['UDID'].isin(starting_devices_list)]\n",
    "double_visits = double_visits[double_visits['UDID'].isin(starting_devices_list)]\n",
    "unknown_dwell = unknown_dwell[unknown_dwell['UDID'].isin(starting_devices_list)]"
   ]
  },
  {
   "cell_type": "code",
   "execution_count": 27,
   "metadata": {},
   "outputs": [
    {
     "data": {
      "text/plain": [
       "8444"
      ]
     },
     "execution_count": 27,
     "metadata": {},
     "output_type": "execute_result"
    }
   ],
   "source": [
    "TO_DD_dwell['UDID'].nunique()"
   ]
  },
  {
   "cell_type": "code",
   "execution_count": 28,
   "metadata": {},
   "outputs": [
    {
     "data": {
      "text/plain": [
       "16773"
      ]
     },
     "execution_count": 28,
     "metadata": {},
     "output_type": "execute_result"
    }
   ],
   "source": [
    "unknown_dwell['UDID'].nunique()"
   ]
  },
  {
   "cell_type": "code",
   "execution_count": 29,
   "metadata": {},
   "outputs": [
    {
     "data": {
      "text/plain": [
       "11201"
      ]
     },
     "execution_count": 29,
     "metadata": {},
     "output_type": "execute_result"
    }
   ],
   "source": [
    "dine_in_dwell['UDID'].nunique()"
   ]
  },
  {
   "cell_type": "code",
   "execution_count": 30,
   "metadata": {},
   "outputs": [
    {
     "data": {
      "text/plain": [
       "13004"
      ]
     },
     "execution_count": 30,
     "metadata": {},
     "output_type": "execute_result"
    }
   ],
   "source": [
    "double_visits['UDID'].nunique()"
   ]
  },
  {
   "cell_type": "markdown",
   "metadata": {},
   "source": [
    "According to this filtering, here are the device breakdowns:\n",
    "* To-go/Drivers: 4,783\n",
    "* Unknown Dwell: 11,569\n",
    "* Dine in Dwell: 5,530\n",
    "* Double Visits: 10,204\n",
    "\n",
    "\n",
    "Do some further filtering on the double visits!"
   ]
  },
  {
   "cell_type": "markdown",
   "metadata": {},
   "source": [
    "# Merge CEL/CDL to Pathing X"
   ]
  },
  {
   "cell_type": "code",
   "execution_count": 31,
   "metadata": {},
   "outputs": [
    {
     "data": {
      "text/plain": [
       "Index(['Polygon Name', 'Unhashed Device Id', 'Common Evening Lat',\n",
       "       'Common Evening Long', 'Common Evening Country', 'Common Evening State',\n",
       "       'Common Evening Zip', 'Common Evening Census',\n",
       "       'Common Evening Distance', 'Common Daytime Lat', 'Common Daytime Long',\n",
       "       'Common Daytime Country', 'Common Daytime State', 'Common Daytime Zip',\n",
       "       'Common Daytime Census', 'Common Daytime Distance'],\n",
       "      dtype='object')"
      ]
     },
     "execution_count": 31,
     "metadata": {},
     "output_type": "execute_result"
    }
   ],
   "source": [
    "filtered_cel_cdl.columns"
   ]
  },
  {
   "cell_type": "code",
   "execution_count": null,
   "metadata": {},
   "outputs": [],
   "source": [
    "cels_cdls = filtered_cel_cdl[['UDID', 'Common Evening Lat',\n",
    "       'Common Evening Long','Common Daytime Lat', 'Common Daytime Long',]]\n",
    "cels_cdls.rename(columns = {'UDID':'UDID'}, inplace = True)"
   ]
  },
  {
   "cell_type": "code",
   "execution_count": 33,
   "metadata": {},
   "outputs": [],
   "source": [
    "updated_px = filtered_px.merge(cels_cdls,how = 'left', on = ['UDID'])"
   ]
  },
  {
   "cell_type": "code",
   "execution_count": 34,
   "metadata": {},
   "outputs": [
    {
     "name": "stdout",
     "output_type": "stream",
     "text": [
      "<class 'pandas.core.frame.DataFrame'>\n",
      "Int64Index: 8825760 entries, 0 to 9654971\n",
      "Data columns (total 17 columns):\n",
      "Study Polygon                          object\n",
      "Unhashed Device ID                     object\n",
      "Lat of Observation Point               float64\n",
      "Lon of Observation Point               float64\n",
      "Time before appearance in polygon      int64\n",
      "Unix Timestamp of Observation Point    int64\n",
      "Local Date                             datetime64[ns]\n",
      "Local Time of Day                      object\n",
      "Local Day of Week                      object\n",
      "Local Timezone of Observation Point    object\n",
      "Polygon Id                             float64\n",
      "Polygon Name                           object\n",
      "Category                               object\n",
      "Common Evening Lat                     float64\n",
      "Common Evening Long                    float64\n",
      "Common Daytime Lat                     float64\n",
      "Common Daytime Long                    float64\n",
      "dtypes: datetime64[ns](1), float64(7), int64(2), object(7)\n",
      "memory usage: 1.2+ GB\n"
     ]
    }
   ],
   "source": [
    "updated_px = updated_px[(updated_px['Common Evening Lat'].isnull() == False) & \n",
    "                        (updated_px['Common Daytime Lat'].isnull() == False)]\n",
    "\n",
    "updated_px.info()"
   ]
  },
  {
   "cell_type": "code",
   "execution_count": 35,
   "metadata": {},
   "outputs": [
    {
     "data": {
      "text/plain": [
       "Index(['Study Polygon', 'Unhashed Device ID', 'Lat of Observation Point',\n",
       "       'Lon of Observation Point', 'Time before appearance in polygon',\n",
       "       'Unix Timestamp of Observation Point', 'Local Date',\n",
       "       'Local Time of Day', 'Local Day of Week',\n",
       "       'Local Timezone of Observation Point', 'Polygon Id', 'Polygon Name',\n",
       "       'Category', 'Common Evening Lat', 'Common Evening Long',\n",
       "       'Common Daytime Lat', 'Common Daytime Long'],\n",
       "      dtype='object')"
      ]
     },
     "execution_count": 35,
     "metadata": {},
     "output_type": "execute_result"
    }
   ],
   "source": [
    "updated_px.columns"
   ]
  },
  {
   "cell_type": "code",
   "execution_count": 36,
   "metadata": {},
   "outputs": [],
   "source": [
    "updated_px = pd.read_csv('final.tsv', sep = '\\t',header =None, names =['Study Polygon', 'UDID', 'Lat of Observation Point',\n",
    "       'Lon of Observation Point', 'Time before appearance in polygon',\n",
    "       'Unix Timestamp of Observation Point', 'Local Date',\n",
    "       'Local Time of Day', 'Local Day of Week',\n",
    "       'Local Timezone of Observation Point', 'Polygon Id', 'Polygon Name',\n",
    "       'Category', 'Common Evening Lat', 'Common Evening Long',\n",
    "       'Common Daytime Lat', 'Common Daytime Long', 'CEL Distance', 'CDL Distance'],lineterminator='\\n' )"
   ]
  },
  {
   "cell_type": "code",
   "execution_count": 37,
   "metadata": {},
   "outputs": [],
   "source": [
    "togocelcdl_px = updated_px[(updated_px['CEL Distance'] < 20) |(updated_px['CDL Distance'] < 20) ]"
   ]
  },
  {
   "cell_type": "code",
   "execution_count": 38,
   "metadata": {},
   "outputs": [],
   "source": [
    "togocelcdl_px = togocelcdl_px[togocelcdl_px['Time before appearance in polygon'] < -60]"
   ]
  },
  {
   "cell_type": "code",
   "execution_count": 39,
   "metadata": {},
   "outputs": [
    {
     "data": {
      "text/plain": [
       "837"
      ]
     },
     "execution_count": 39,
     "metadata": {},
     "output_type": "execute_result"
    }
   ],
   "source": [
    "togocelcdl_px[togocelcdl_px['UDID'].isin(TO_DD_dwell['UDID'])]['UDID'].nunique()"
   ]
  },
  {
   "cell_type": "markdown",
   "metadata": {},
   "source": [
    "* Out of the 9780 devices that had a dwell time of less than 7 mins, only 672 ended at their CEL/CDL\n",
    "* 4227 devices started and ended from their CEL/CDL"
   ]
  },
  {
   "cell_type": "code",
   "execution_count": 40,
   "metadata": {},
   "outputs": [
    {
     "data": {
      "text/plain": [
       "4227"
      ]
     },
     "execution_count": 40,
     "metadata": {},
     "output_type": "execute_result"
    }
   ],
   "source": [
    "#All Devices from starting pool\n",
    "togocelcdl_px['UDID'].nunique()"
   ]
  },
  {
   "cell_type": "markdown",
   "metadata": {},
   "source": [
    "using a 20 meter buffer zone from CEL/CDL, found that 6108 devices showed togo device habits"
   ]
  },
  {
   "cell_type": "code",
   "execution_count": 41,
   "metadata": {},
   "outputs": [
    {
     "data": {
      "text/plain": [
       "Index(['Polygon Name', 'Unhashed Device Id', 'Common Evening Lat',\n",
       "       'Common Evening Long', 'Common Evening Country', 'Common Evening State',\n",
       "       'Common Evening Zip', 'Common Evening Census',\n",
       "       'Common Evening Distance', 'Common Daytime Lat', 'Common Daytime Long',\n",
       "       'Common Daytime Country', 'Common Daytime State', 'Common Daytime Zip',\n",
       "       'Common Daytime Census', 'Common Daytime Distance'],\n",
       "      dtype='object')"
      ]
     },
     "execution_count": 41,
     "metadata": {},
     "output_type": "execute_result"
    }
   ],
   "source": [
    "filtered_cel_cdl.columns"
   ]
  },
  {
   "cell_type": "code",
   "execution_count": null,
   "metadata": {},
   "outputs": [],
   "source": [
    "non_chi_cels = pd.read_csv('non-Chicago_cels.tsv', sep = '\\t', header = None, names = ['Polygon Name', 'UDID', 'Common Evening Lat',\n",
    "       'Common Evening Long', 'Common Evening Country', 'Common Evening State',\n",
    "       'Common Evening Zip', 'Common Evening Census',\n",
    "       'Common Evening Distance', 'Common Daytime Lat', 'Common Daytime Long',\n",
    "       'Common Daytime Country', 'Common Daytime State', 'Common Daytime Zip',\n",
    "       'Common Daytime Census', 'Common Daytime Distance'])\n",
    "non_chi_cels"
   ]
  },
  {
   "cell_type": "code",
   "execution_count": 43,
   "metadata": {},
   "outputs": [],
   "source": [
    "non_chi_cels.dropna(subset=['Common Evening Lat'], inplace = True)"
   ]
  },
  {
   "cell_type": "code",
   "execution_count": 44,
   "metadata": {},
   "outputs": [
    {
     "data": {
      "text/plain": [
       "26672"
      ]
     },
     "execution_count": 44,
     "metadata": {},
     "output_type": "execute_result"
    }
   ],
   "source": [
    "non_chi_cels['UDID'].nunique()"
   ]
  },
  {
   "cell_type": "code",
   "execution_count": 45,
   "metadata": {},
   "outputs": [
    {
     "data": {
      "text/plain": [
       "2793"
      ]
     },
     "execution_count": 45,
     "metadata": {},
     "output_type": "execute_result"
    }
   ],
   "source": [
    "non_chi_2go = TO_DD_dwell[TO_DD_dwell['UDID'].isin(non_chi_cels['UDID'])]\n",
    "TO_DD_dwell[TO_DD_dwell['UDID'].isin(non_chi_cels['UDID'])]['UDID'].nunique()"
   ]
  },
  {
   "cell_type": "markdown",
   "metadata": {},
   "source": [
    "70 devices from the pool of 4227 to go devices based on their CEL have CELS outside of the Chicago Metro area!"
   ]
  },
  {
   "cell_type": "markdown",
   "metadata": {},
   "source": [
    "# To Summarize:\n",
    " ## 44,895 starting devices\n",
    " ## 12,048 dine in based on dwell\n",
    " ## 9780 To-go/Driver devices based on dwell\n",
    " ## Out of 9780 devices, only 953 devices ended at CEL/CDL\n",
    " ## 4227 devices ended at their CEL/CDL\n",
    " ## 70 devices had CELs outside of Chicago metro area"
   ]
  },
  {
   "cell_type": "markdown",
   "metadata": {},
   "source": [
    "# Number of Visits in a Year"
   ]
  },
  {
   "cell_type": "code",
   "execution_count": null,
   "metadata": {},
   "outputs": [],
   "source": [
    "# Driver devices are those with more than 200 visits in a year\n",
    "driver = filtered_zp[filtered_zp.groupby(\"Unhashed Device ID\")[\"Unhashed Device ID\"].transform('size') >= 200].reset_index(drop=True)\n",
    "\n",
    "driver = driver[driver['UDID'].isin(TO_DD_dwell['UDID'])]\n",
    "driver = driver[~driver['UDID'].isin(togocelcdl_px['UDID'])]\n",
    "driver['UDID'].nunique()\n",
    "driver_dids = driver[['Polygon ID','UDID']].drop_duplicates()\n",
    "driver_dids['UDID']\n",
    "driver_dids['Polygon ID'].value_counts().reset_index()\n"
   ]
  },
  {
   "cell_type": "markdown",
   "metadata": {},
   "source": [
    "This logic returns 36 driver devices"
   ]
  },
  {
   "cell_type": "code",
   "execution_count": 53,
   "metadata": {},
   "outputs": [
    {
     "name": "stdout",
     "output_type": "stream",
     "text": [
      "<class 'pandas.core.frame.DataFrame'>\n",
      "Int64Index: 558336 entries, 0 to 668968\n",
      "Data columns (total 7 columns):\n",
      "Polygon ID                 558336 non-null object\n",
      "Unhashed Device ID         558336 non-null object\n",
      "Unix Timestamp of Visit    558336 non-null int64\n",
      "Date                       558336 non-null datetime64[ns]\n",
      "Time of Day                558336 non-null object\n",
      "Day of Week                558336 non-null object\n",
      "Time Zone                  558336 non-null object\n",
      "dtypes: datetime64[ns](1), int64(1), object(5)\n",
      "memory usage: 34.1+ MB\n"
     ]
    }
   ],
   "source": [
    "filtered_zp.info()"
   ]
  },
  {
   "cell_type": "code",
   "execution_count": 54,
   "metadata": {},
   "outputs": [
    {
     "name": "stderr",
     "output_type": "stream",
     "text": [
      "/anaconda3/lib/python3.6/site-packages/ipykernel_launcher.py:1: SettingWithCopyWarning: \n",
      "A value is trying to be set on a copy of a slice from a DataFrame.\n",
      "Try using .loc[row_indexer,col_indexer] = value instead\n",
      "\n",
      "See the caveats in the documentation: http://pandas.pydata.org/pandas-docs/stable/indexing.html#indexing-view-versus-copy\n",
      "  \"\"\"Entry point for launching an IPython kernel.\n"
     ]
    }
   ],
   "source": [
    "filtered_zp['Time of Day'] = pd.to_timedelta(filtered_zp['Time of Day'])"
   ]
  },
  {
   "cell_type": "code",
   "execution_count": null,
   "metadata": {},
   "outputs": [],
   "source": [
    "# Create time delta col to determine seperation of visits greater than 1 hr\n",
    "filtered_zp['time_delta'] = (filtered_zp['Time of Day'] - filtered_zp['Time of Day'].shift())\n",
    "daily_visits = filtered_zp[(filtered_zp['time_delta']>'01:00:00') & (filtered_zp['UDID'].duplicated() == True) & \n",
    "           (filtered_zp['Date'].duplicated() ==True)]"
   ]
  },
  {
   "cell_type": "code",
   "execution_count": 56,
   "metadata": {},
   "outputs": [],
   "source": [
    "# Countthe number of times a device repeated a visit in a day. Filter out devices with more than 2 visits\n",
    "daily_visit_count = daily_visits.groupby(['UDID','Date']).count().reset_index()\n",
    "possible_drivers = daily_visit_count[daily_visit_count['Time of Day'] > 2]"
   ]
  },
  {
   "cell_type": "code",
   "execution_count": 57,
   "metadata": {},
   "outputs": [],
   "source": [
    "possible_drivers = possible_drivers[possible_drivers['UDID'].isin(TO_DD_dwell['UDID'])]"
   ]
  },
  {
   "cell_type": "code",
   "execution_count": 58,
   "metadata": {},
   "outputs": [],
   "source": [
    "driver_dids_daily = possible_drivers[['UDID']].drop_duplicates()\n",
    "#driver_dids_daily = driver_dids_daily['UDID'].tolist()"
   ]
  },
  {
   "cell_type": "code",
   "execution_count": 59,
   "metadata": {},
   "outputs": [],
   "source": [
    "driver_dids_daily = driver_dids_daily[~driver_dids_daily['UDID'].isin(togocelcdl_px['UDID'])]"
   ]
  },
  {
   "cell_type": "code",
   "execution_count": 60,
   "metadata": {},
   "outputs": [],
   "source": [
    "#driver_dids_daily = driver_dids_daily['UDID'].tolist()"
   ]
  },
  {
   "cell_type": "code",
   "execution_count": 61,
   "metadata": {},
   "outputs": [
    {
     "data": {
      "text/plain": [
       "214"
      ]
     },
     "execution_count": 61,
     "metadata": {},
     "output_type": "execute_result"
    }
   ],
   "source": [
    "len(driver_dids_daily)"
   ]
  },
  {
   "cell_type": "markdown",
   "metadata": {},
   "source": [
    "This logic returns 142 devices!"
   ]
  },
  {
   "cell_type": "code",
   "execution_count": 62,
   "metadata": {},
   "outputs": [],
   "source": [
    "filtered_driver_dids = driver_dids_daily[driver_dids_daily['UDID'].isin(driver_dids['UDID']) == True]"
   ]
  },
  {
   "cell_type": "code",
   "execution_count": 63,
   "metadata": {},
   "outputs": [],
   "source": [
    "filtered_driver_dids = filtered_driver_dids['UDID']"
   ]
  },
  {
   "cell_type": "code",
   "execution_count": 64,
   "metadata": {},
   "outputs": [
    {
     "data": {
      "text/plain": [
       "41"
      ]
     },
     "execution_count": 64,
     "metadata": {},
     "output_type": "execute_result"
    }
   ],
   "source": [
    "filtered_driver_dids.nunique()"
   ]
  },
  {
   "cell_type": "markdown",
   "metadata": {},
   "source": [
    "* 25 devices have both of these traits, where they have more than 200 visits a year and have more than 2 visits in a day!"
   ]
  },
  {
   "cell_type": "markdown",
   "metadata": {},
   "source": [
    "# Going back to unknown dwell devices and double visits"
   ]
  },
  {
   "cell_type": "code",
   "execution_count": 65,
   "metadata": {},
   "outputs": [
    {
     "data": {
      "text/plain": [
       "16773"
      ]
     },
     "execution_count": 65,
     "metadata": {},
     "output_type": "execute_result"
    },
    {
     "data": {
      "text/plain": [
       "13004"
      ]
     },
     "execution_count": 65,
     "metadata": {},
     "output_type": "execute_result"
    }
   ],
   "source": [
    "unknown_dwell['UDID'].nunique()\n",
    "double_visits['UDID'].nunique()"
   ]
  },
  {
   "cell_type": "code",
   "execution_count": 66,
   "metadata": {},
   "outputs": [
    {
     "data": {
      "text/plain": [
       "2085"
      ]
     },
     "execution_count": 66,
     "metadata": {},
     "output_type": "execute_result"
    }
   ],
   "source": [
    "# CELCDL ending location in unknown dwell\n",
    "togocelcdl_px[togocelcdl_px['UDID'].isin(unknown_dwell['UDID'])]['UDID'].nunique()"
   ]
  },
  {
   "cell_type": "code",
   "execution_count": 67,
   "metadata": {},
   "outputs": [
    {
     "data": {
      "text/plain": [
       "2018"
      ]
     },
     "execution_count": 67,
     "metadata": {},
     "output_type": "execute_result"
    }
   ],
   "source": [
    "# CELCDL ending location in double visits\n",
    "togocelcdl_px[togocelcdl_px['UDID'].isin(double_visits['UDID'])]['UDID'].nunique()"
   ]
  },
  {
   "cell_type": "code",
   "execution_count": 68,
   "metadata": {},
   "outputs": [
    {
     "data": {
      "text/plain": [
       "47"
      ]
     },
     "execution_count": 68,
     "metadata": {},
     "output_type": "execute_result"
    },
    {
     "data": {
      "text/plain": [
       "49"
      ]
     },
     "execution_count": 68,
     "metadata": {},
     "output_type": "execute_result"
    }
   ],
   "source": [
    "# More than 200 visits annually devices for unknown dwell devices\n",
    "driver[driver['UDID'].isin(unknown_dwell['UDID'])]['UDID'].nunique()\n",
    "# More than 200 visits annually devices for double visit dwell devices\n",
    "driver[driver['UDID'].isin(double_visits['UDID'])]['UDID'].nunique()"
   ]
  },
  {
   "cell_type": "code",
   "execution_count": 69,
   "metadata": {},
   "outputs": [
    {
     "data": {
      "text/plain": [
       "684"
      ]
     },
     "execution_count": 69,
     "metadata": {},
     "output_type": "execute_result"
    },
    {
     "data": {
      "text/plain": [
       "1053"
      ]
     },
     "execution_count": 69,
     "metadata": {},
     "output_type": "execute_result"
    }
   ],
   "source": [
    "# Unknown dwell devices with more than 2 visits in a day\n",
    "daily_visit_count[(daily_visit_count['UDID'].isin(unknown_dwell['UDID']))&\n",
    "                 (daily_visit_count['Time of Day'] > 2)]['UDID'].nunique()\n",
    "# Double visit devices with more than 2 visits in a day\n",
    "daily_visit_count[(daily_visit_count['UDID'].isin(double_visits['UDID']))&\n",
    "                 (daily_visit_count['Time of Day'] > 2)]['UDID'].nunique()"
   ]
  },
  {
   "cell_type": "code",
   "execution_count": 70,
   "metadata": {},
   "outputs": [
    {
     "data": {
      "text/plain": [
       "38"
      ]
     },
     "execution_count": 70,
     "metadata": {},
     "output_type": "execute_result"
    },
    {
     "data": {
      "text/plain": [
       "39"
      ]
     },
     "execution_count": 70,
     "metadata": {},
     "output_type": "execute_result"
    }
   ],
   "source": [
    "# Unknown dwell devices with more than 2 visits in a day\n",
    "daily_visit_count[(daily_visit_count['UDID'].isin(unknown_dwell['UDID']))&\n",
    "                 (daily_visit_count['Time of Day'] > 2) &\n",
    "                 (daily_visit_count['UDID'].isin(driver['UDID']))]['UDID'].nunique()\n",
    "# Double visit devices with more than 2 visits in a day\n",
    "daily_visit_count[(daily_visit_count['UDID'].isin(double_visits['UDID']))&\n",
    "                 (daily_visit_count['Time of Day'] > 2) &\n",
    "                 (daily_visit_count['UDID'].isin(driver['UDID']))]['UDID'].nunique()"
   ]
  },
  {
   "cell_type": "markdown",
   "metadata": {},
   "source": [
    "## Summary\n",
    "### Out of 11569 devices with unknown dwell time:\n",
    "    * 1,796 devices ended at CEL/CDL\n",
    "    * 27 devices visited a location more than 200 times in the year\n",
    "    * 539 devices had more than 2 visits in a day\n",
    "    * 21 of devices with more than 2 visits + 200 visits\n",
    "### Out of 10204 devices with double visits dwell time:\n",
    "    * 1,758 devices started/ended from CEL/CDL\n",
    "    * 29 devices visited a location more than 200 times in the year\n",
    "    * 821 devices had more than 2 visits in a day\n",
    "    * 22 of devices with more than 2 visits + 200 visits\n",
    "    \n",
    "Adding these 1796 + 1758 devices to potential togo customer pool\n",
    "\n",
    "Adding these 21 + 22 devices to potential driver pool"
   ]
  },
  {
   "cell_type": "code",
   "execution_count": 71,
   "metadata": {},
   "outputs": [
    {
     "data": {
      "text/plain": [
       "(41,)"
      ]
     },
     "execution_count": 71,
     "metadata": {},
     "output_type": "execute_result"
    }
   ],
   "source": [
    "\n",
    "a = daily_visit_count[(daily_visit_count['UDID'].isin(unknown_dwell['UDID']))&\n",
    "                 (daily_visit_count['Time of Day'] > 2) &\n",
    "                 (daily_visit_count['UDID'].isin(driver['UDID']))]['UDID']\n",
    "\n",
    "b = daily_visit_count[(daily_visit_count['UDID'].isin(double_visits['UDID']))&\n",
    "                 (daily_visit_count['Time of Day'] > 2) &\n",
    "                 (daily_visit_count['UDID'].isin(driver['UDID']))]['UDID']\n",
    "\n",
    "driver_pool_unknowns = pd.concat([a,b])\n",
    "driver_pool_unknowns.drop_duplicates(inplace = True)\n",
    "driver_pool_unknowns.shape"
   ]
  },
  {
   "cell_type": "code",
   "execution_count": 72,
   "metadata": {},
   "outputs": [
    {
     "data": {
      "text/plain": [
       "(2966,)"
      ]
     },
     "execution_count": 72,
     "metadata": {},
     "output_type": "execute_result"
    }
   ],
   "source": [
    "a = togocelcdl_px[togocelcdl_px['UDID'].isin(unknown_dwell['UDID'])]['UDID']\n",
    "\n",
    "b = togocelcdl_px[togocelcdl_px['UDID'].isin(double_visits['UDID'])]['UDID']\n",
    "to_go_pool_unknowns = pd.concat([a,b])\n",
    "to_go_pool_unknowns.drop_duplicates(inplace = True)\n",
    "to_go_pool_unknowns.shape"
   ]
  },
  {
   "cell_type": "markdown",
   "metadata": {},
   "source": [
    "# Adding these devices together, a net increase of togos = 2612 and drivers = 25"
   ]
  },
  {
   "cell_type": "code",
   "execution_count": 73,
   "metadata": {},
   "outputs": [],
   "source": [
    "beginnning_unknowns_dids = unknowns['UDID'].drop_duplicates().tolist()"
   ]
  },
  {
   "cell_type": "code",
   "execution_count": 74,
   "metadata": {},
   "outputs": [
    {
     "data": {
      "text/plain": [
       "26095"
      ]
     },
     "execution_count": 74,
     "metadata": {},
     "output_type": "execute_result"
    }
   ],
   "source": [
    "len(beginnning_unknowns_dids)"
   ]
  },
  {
   "cell_type": "code",
   "execution_count": 75,
   "metadata": {},
   "outputs": [],
   "source": [
    "unknown_dwell_dids = unknown_dwell['UDID'].drop_duplicates().tolist()"
   ]
  },
  {
   "cell_type": "code",
   "execution_count": 76,
   "metadata": {},
   "outputs": [
    {
     "data": {
      "text/plain": [
       "16773"
      ]
     },
     "execution_count": 76,
     "metadata": {},
     "output_type": "execute_result"
    }
   ],
   "source": [
    "len(unknown_dwell_dids)"
   ]
  },
  {
   "cell_type": "code",
   "execution_count": 77,
   "metadata": {},
   "outputs": [],
   "source": [
    "total_unknowns = unknown_dwell_dids + beginnning_unknowns_dids"
   ]
  },
  {
   "cell_type": "code",
   "execution_count": 78,
   "metadata": {},
   "outputs": [],
   "source": [
    "total_unknowns = list(set(total_unknowns))"
   ]
  },
  {
   "cell_type": "code",
   "execution_count": 79,
   "metadata": {},
   "outputs": [
    {
     "data": {
      "text/plain": [
       "36303"
      ]
     },
     "execution_count": 79,
     "metadata": {},
     "output_type": "execute_result"
    }
   ],
   "source": [
    "len(total_unknowns)"
   ]
  },
  {
   "cell_type": "markdown",
   "metadata": {},
   "source": [
    "## 32,914 unique devices that are unknowns"
   ]
  },
  {
   "cell_type": "code",
   "execution_count": 80,
   "metadata": {},
   "outputs": [],
   "source": [
    "filtered_px[filtered_px['UDID'].isin(total_unknowns)].to_csv('uknown_devices_pathx.tsv', sep = '\\t',\n",
    "                                                                       index = False)"
   ]
  },
  {
   "cell_type": "code",
   "execution_count": 81,
   "metadata": {},
   "outputs": [
    {
     "data": {
      "text/plain": [
       "Index(['Study Polygon', 'Unhashed Device ID', 'Lat of Observation Point',\n",
       "       'Lon of Observation Point', 'Time before appearance in polygon',\n",
       "       'Unix Timestamp of Observation Point', 'Local Date',\n",
       "       'Local Time of Day', 'Local Day of Week',\n",
       "       'Local Timezone of Observation Point', 'Polygon Id', 'Polygon Name',\n",
       "       'Category'],\n",
       "      dtype='object')"
      ]
     },
     "execution_count": 81,
     "metadata": {},
     "output_type": "execute_result"
    }
   ],
   "source": [
    "filtered_px.columns"
   ]
  },
  {
   "cell_type": "markdown",
   "metadata": {},
   "source": [
    "# Unknown Devices PathX filtered with possible dine in areas of restaurants"
   ]
  },
  {
   "cell_type": "code",
   "execution_count": 82,
   "metadata": {},
   "outputs": [],
   "source": [
    "u_pathx = pd.read_csv('uknown_devices_pathx_dineins.tsv',sep = '\\t', names = ['Study Polygon', 'UDID', 'Lat of Observation Point',\n",
    "       'Lon of Observation Point', 'Time before appearance in polygon',\n",
    "       'Unix Timestamp of Observation Point', 'Local Date',\n",
    "       'Local Time of Day', 'Local Day of Week',\n",
    "       'Local Timezone of Observation Point', 'Polygon Id', 'Polygon Name',\n",
    "       'Category','PNP Location'])"
   ]
  },
  {
   "cell_type": "code",
   "execution_count": 83,
   "metadata": {},
   "outputs": [],
   "source": [
    "u_pathx = u_pathx[~((u_pathx['Study Polygon'] != \"POI\")&(u_pathx['Local Date'] < '2018-08-01'))]"
   ]
  },
  {
   "cell_type": "code",
   "execution_count": 84,
   "metadata": {},
   "outputs": [
    {
     "data": {
      "text/plain": [
       "8597"
      ]
     },
     "execution_count": 84,
     "metadata": {},
     "output_type": "execute_result"
    }
   ],
   "source": [
    "u_pathx['UDID'].nunique()"
   ]
  },
  {
   "cell_type": "markdown",
   "metadata": {},
   "source": [
    "## Potential Dine in Devices added: 8,597 from the unknown devices due to the location the point was seen"
   ]
  },
  {
   "cell_type": "code",
   "execution_count": 85,
   "metadata": {},
   "outputs": [],
   "source": [
    "din_unknown_dwell_dids = u_pathx['UDID'].drop_duplicates().tolist()\n",
    "din_devices = dine_in_dwell['UDID'].drop_duplicates().tolist()"
   ]
  },
  {
   "cell_type": "code",
   "execution_count": 86,
   "metadata": {},
   "outputs": [
    {
     "data": {
      "text/plain": [
       "11201"
      ]
     },
     "execution_count": 86,
     "metadata": {},
     "output_type": "execute_result"
    }
   ],
   "source": [
    "len(din_devices)"
   ]
  },
  {
   "cell_type": "code",
   "execution_count": 87,
   "metadata": {},
   "outputs": [
    {
     "data": {
      "text/plain": [
       "18066"
      ]
     },
     "execution_count": 87,
     "metadata": {},
     "output_type": "execute_result"
    }
   ],
   "source": [
    "total_dineins = din_devices + din_unknown_dwell_dids\n",
    "total_dineins = list(set(total_dineins))\n",
    "len(total_dineins)"
   ]
  },
  {
   "cell_type": "markdown",
   "metadata": {},
   "source": [
    "# Total Dine In Devices = 12,688"
   ]
  },
  {
   "cell_type": "code",
   "execution_count": 88,
   "metadata": {},
   "outputs": [
    {
     "data": {
      "text/plain": [
       "228"
      ]
     },
     "execution_count": 88,
     "metadata": {},
     "output_type": "execute_result"
    }
   ],
   "source": [
    "dd_1 = driver_dids['UDID'].drop_duplicates().tolist()\n",
    "dd_2 = driver_dids_daily['UDID'].drop_duplicates().tolist()\n",
    "driver_pool = dd_1 + dd_2 + driver_pool_unknowns.tolist()\n",
    "driver_pool = list(set(driver_pool))\n",
    "len(driver_pool)"
   ]
  },
  {
   "cell_type": "markdown",
   "metadata": {},
   "source": [
    "# Total Driver Devices = 150"
   ]
  },
  {
   "cell_type": "code",
   "execution_count": 89,
   "metadata": {},
   "outputs": [],
   "source": [
    "togo_dev_pool = togocelcdl_px[togocelcdl_px['UDID'].isin(TO_DD_dwell['UDID'])]['UDID'].tolist()"
   ]
  },
  {
   "cell_type": "code",
   "execution_count": 90,
   "metadata": {},
   "outputs": [
    {
     "data": {
      "text/plain": [
       "3136"
      ]
     },
     "execution_count": 90,
     "metadata": {},
     "output_type": "execute_result"
    }
   ],
   "source": [
    "togo_pool = togo_dev_pool + to_go_pool_unknowns.tolist()\n",
    "togo_pool = list(set(togo_pool))\n",
    "len(togo_pool)"
   ]
  },
  {
   "cell_type": "markdown",
   "metadata": {},
   "source": [
    "# Total ToGo Devices = 2,738"
   ]
  },
  {
   "cell_type": "markdown",
   "metadata": {},
   "source": [
    "# Out of 66,320 Total starting devices"
   ]
  },
  {
   "cell_type": "code",
   "execution_count": 91,
   "metadata": {},
   "outputs": [
    {
     "data": {
      "text/plain": [
       "1728"
      ]
     },
     "execution_count": 91,
     "metadata": {},
     "output_type": "execute_result"
    }
   ],
   "source": [
    "len(set(total_dineins).intersection(togo_pool))"
   ]
  },
  {
   "cell_type": "markdown",
   "metadata": {},
   "source": [
    "# Comparing Dine Ins to ToGo, 1,579 of dine ins were also to go's"
   ]
  },
  {
   "cell_type": "code",
   "execution_count": 92,
   "metadata": {},
   "outputs": [
    {
     "data": {
      "text/plain": [
       "166"
      ]
     },
     "execution_count": 92,
     "metadata": {},
     "output_type": "execute_result"
    }
   ],
   "source": [
    "len(set(total_dineins).intersection(driver_pool))"
   ]
  },
  {
   "cell_type": "markdown",
   "metadata": {},
   "source": [
    "# Comparing Dine Ins to Drivers, 112 of dine ins were also drivers"
   ]
  },
  {
   "cell_type": "code",
   "execution_count": 93,
   "metadata": {},
   "outputs": [
    {
     "data": {
      "text/plain": [
       "0"
      ]
     },
     "execution_count": 93,
     "metadata": {},
     "output_type": "execute_result"
    }
   ],
   "source": [
    "len(set(togo_pool).intersection(driver_pool))"
   ]
  },
  {
   "cell_type": "markdown",
   "metadata": {},
   "source": [
    "# Comparing ToGo to Drivers,  0 of togo were also drivers"
   ]
  },
  {
   "cell_type": "code",
   "execution_count": 94,
   "metadata": {},
   "outputs": [
    {
     "data": {
      "text/plain": [
       "170"
      ]
     },
     "execution_count": 94,
     "metadata": {},
     "output_type": "execute_result"
    },
    {
     "data": {
      "text/plain": [
       "2101"
      ]
     },
     "execution_count": 94,
     "metadata": {},
     "output_type": "execute_result"
    },
    {
     "data": {
      "text/plain": [
       "8725"
      ]
     },
     "execution_count": 94,
     "metadata": {},
     "output_type": "execute_result"
    }
   ],
   "source": [
    "len(set(total_unknowns).intersection(driver_pool))\n",
    "len(set(total_unknowns).intersection(togo_pool))\n",
    "len(set(total_unknowns).intersection(total_dineins))"
   ]
  },
  {
   "cell_type": "code",
   "execution_count": 95,
   "metadata": {
    "scrolled": true
   },
   "outputs": [
    {
     "data": {
      "text/html": [
       "<div>\n",
       "<style scoped>\n",
       "    .dataframe tbody tr th:only-of-type {\n",
       "        vertical-align: middle;\n",
       "    }\n",
       "\n",
       "    .dataframe tbody tr th {\n",
       "        vertical-align: top;\n",
       "    }\n",
       "\n",
       "    .dataframe thead th {\n",
       "        text-align: right;\n",
       "    }\n",
       "</style>\n",
       "<table border=\"1\" class=\"dataframe\">\n",
       "  <thead>\n",
       "    <tr style=\"text-align: right;\">\n",
       "      <th></th>\n",
       "      <th>index</th>\n",
       "      <th>Polygon ID</th>\n",
       "    </tr>\n",
       "  </thead>\n",
       "  <tbody>\n",
       "    <tr>\n",
       "      <th>0</th>\n",
       "      <td>Portillos,  Chicago,  IL | 7962939</td>\n",
       "      <td>119</td>\n",
       "    </tr>\n",
       "    <tr>\n",
       "      <th>1</th>\n",
       "      <td>McDonald's 6676, Chicago, IL | 98504</td>\n",
       "      <td>103</td>\n",
       "    </tr>\n",
       "    <tr>\n",
       "      <th>2</th>\n",
       "      <td>Maggiano's Little Italy 207, Chicago, IL | 439...</td>\n",
       "      <td>46</td>\n",
       "    </tr>\n",
       "    <tr>\n",
       "      <th>3</th>\n",
       "      <td>Tempo Cafe,  Chicago,  IL | 7962942</td>\n",
       "      <td>44</td>\n",
       "    </tr>\n",
       "    <tr>\n",
       "      <th>4</th>\n",
       "      <td>TGI Fridays 2668 - Chicago - Erie St, Chicago,...</td>\n",
       "      <td>35</td>\n",
       "    </tr>\n",
       "    <tr>\n",
       "      <th>5</th>\n",
       "      <td>Seoul Taco,  Chicago,  IL | 7962943</td>\n",
       "      <td>28</td>\n",
       "    </tr>\n",
       "    <tr>\n",
       "      <th>6</th>\n",
       "      <td>Hooters 231 - Chicago - Wells St., Chicago, IL...</td>\n",
       "      <td>25</td>\n",
       "    </tr>\n",
       "    <tr>\n",
       "      <th>7</th>\n",
       "      <td>Velvet Taco,  Chicago,  IL | 7962941</td>\n",
       "      <td>23</td>\n",
       "    </tr>\n",
       "    <tr>\n",
       "      <th>8</th>\n",
       "      <td>Lou Malnatis,  Chicago,  IL | 7962940</td>\n",
       "      <td>19</td>\n",
       "    </tr>\n",
       "    <tr>\n",
       "      <th>9</th>\n",
       "      <td>The Halal Guys,  Chicago,  IL | 7962944</td>\n",
       "      <td>7</td>\n",
       "    </tr>\n",
       "  </tbody>\n",
       "</table>\n",
       "</div>"
      ],
      "text/plain": [
       "                                               index  Polygon ID\n",
       "0                 Portillos,  Chicago,  IL | 7962939         119\n",
       "1               McDonald's 6676, Chicago, IL | 98504         103\n",
       "2  Maggiano's Little Italy 207, Chicago, IL | 439...          46\n",
       "3                Tempo Cafe,  Chicago,  IL | 7962942          44\n",
       "4  TGI Fridays 2668 - Chicago - Erie St, Chicago,...          35\n",
       "5                Seoul Taco,  Chicago,  IL | 7962943          28\n",
       "6  Hooters 231 - Chicago - Wells St., Chicago, IL...          25\n",
       "7               Velvet Taco,  Chicago,  IL | 7962941          23\n",
       "8              Lou Malnatis,  Chicago,  IL | 7962940          19\n",
       "9            The Halal Guys,  Chicago,  IL | 7962944           7"
      ]
     },
     "execution_count": 95,
     "metadata": {},
     "output_type": "execute_result"
    }
   ],
   "source": [
    "zero_drivers = filtered_zp[filtered_zp['UDID'].isin(driver_pool)]\n",
    "zero_drivers = zero_drivers[['Polygon ID','UDID']].drop_duplicates()\n",
    "zero_drivers['Polygon ID'].value_counts().reset_index()"
   ]
  },
  {
   "cell_type": "code",
   "execution_count": 96,
   "metadata": {},
   "outputs": [
    {
     "data": {
      "text/html": [
       "<div>\n",
       "<style scoped>\n",
       "    .dataframe tbody tr th:only-of-type {\n",
       "        vertical-align: middle;\n",
       "    }\n",
       "\n",
       "    .dataframe tbody tr th {\n",
       "        vertical-align: top;\n",
       "    }\n",
       "\n",
       "    .dataframe thead th {\n",
       "        text-align: right;\n",
       "    }\n",
       "</style>\n",
       "<table border=\"1\" class=\"dataframe\">\n",
       "  <thead>\n",
       "    <tr style=\"text-align: right;\">\n",
       "      <th></th>\n",
       "      <th>index</th>\n",
       "      <th>Polygon ID</th>\n",
       "    </tr>\n",
       "  </thead>\n",
       "  <tbody>\n",
       "    <tr>\n",
       "      <th>0</th>\n",
       "      <td>McDonald's 6676, Chicago, IL | 98504</td>\n",
       "      <td>1549</td>\n",
       "    </tr>\n",
       "    <tr>\n",
       "      <th>1</th>\n",
       "      <td>Portillos,  Chicago,  IL | 7962939</td>\n",
       "      <td>1417</td>\n",
       "    </tr>\n",
       "    <tr>\n",
       "      <th>2</th>\n",
       "      <td>Maggiano's Little Italy 207, Chicago, IL | 439...</td>\n",
       "      <td>609</td>\n",
       "    </tr>\n",
       "    <tr>\n",
       "      <th>3</th>\n",
       "      <td>Tempo Cafe,  Chicago,  IL | 7962942</td>\n",
       "      <td>561</td>\n",
       "    </tr>\n",
       "    <tr>\n",
       "      <th>4</th>\n",
       "      <td>Velvet Taco,  Chicago,  IL | 7962941</td>\n",
       "      <td>442</td>\n",
       "    </tr>\n",
       "    <tr>\n",
       "      <th>5</th>\n",
       "      <td>Hooters 231 - Chicago - Wells St., Chicago, IL...</td>\n",
       "      <td>329</td>\n",
       "    </tr>\n",
       "    <tr>\n",
       "      <th>6</th>\n",
       "      <td>Seoul Taco,  Chicago,  IL | 7962943</td>\n",
       "      <td>319</td>\n",
       "    </tr>\n",
       "    <tr>\n",
       "      <th>7</th>\n",
       "      <td>TGI Fridays 2668 - Chicago - Erie St, Chicago,...</td>\n",
       "      <td>306</td>\n",
       "    </tr>\n",
       "    <tr>\n",
       "      <th>8</th>\n",
       "      <td>Lou Malnatis,  Chicago,  IL | 7962940</td>\n",
       "      <td>233</td>\n",
       "    </tr>\n",
       "    <tr>\n",
       "      <th>9</th>\n",
       "      <td>The Halal Guys,  Chicago,  IL | 7962944</td>\n",
       "      <td>216</td>\n",
       "    </tr>\n",
       "  </tbody>\n",
       "</table>\n",
       "</div>"
      ],
      "text/plain": [
       "                                               index  Polygon ID\n",
       "0               McDonald's 6676, Chicago, IL | 98504        1549\n",
       "1                 Portillos,  Chicago,  IL | 7962939        1417\n",
       "2  Maggiano's Little Italy 207, Chicago, IL | 439...         609\n",
       "3                Tempo Cafe,  Chicago,  IL | 7962942         561\n",
       "4               Velvet Taco,  Chicago,  IL | 7962941         442\n",
       "5  Hooters 231 - Chicago - Wells St., Chicago, IL...         329\n",
       "6                Seoul Taco,  Chicago,  IL | 7962943         319\n",
       "7  TGI Fridays 2668 - Chicago - Erie St, Chicago,...         306\n",
       "8              Lou Malnatis,  Chicago,  IL | 7962940         233\n",
       "9            The Halal Guys,  Chicago,  IL | 7962944         216"
      ]
     },
     "execution_count": 96,
     "metadata": {},
     "output_type": "execute_result"
    }
   ],
   "source": [
    "zero_togo = filtered_zp[filtered_zp['UDID'].isin(togo_pool)]\n",
    "zero_togo = zero_togo[['Polygon ID','UDID']].drop_duplicates()\n",
    "zero_togo['Polygon ID'].value_counts().reset_index()"
   ]
  },
  {
   "cell_type": "code",
   "execution_count": 97,
   "metadata": {
    "scrolled": true
   },
   "outputs": [
    {
     "data": {
      "text/html": [
       "<div>\n",
       "<style scoped>\n",
       "    .dataframe tbody tr th:only-of-type {\n",
       "        vertical-align: middle;\n",
       "    }\n",
       "\n",
       "    .dataframe tbody tr th {\n",
       "        vertical-align: top;\n",
       "    }\n",
       "\n",
       "    .dataframe thead th {\n",
       "        text-align: right;\n",
       "    }\n",
       "</style>\n",
       "<table border=\"1\" class=\"dataframe\">\n",
       "  <thead>\n",
       "    <tr style=\"text-align: right;\">\n",
       "      <th></th>\n",
       "      <th>index</th>\n",
       "      <th>Polygon ID</th>\n",
       "    </tr>\n",
       "  </thead>\n",
       "  <tbody>\n",
       "    <tr>\n",
       "      <th>0</th>\n",
       "      <td>Portillos,  Chicago,  IL | 7962939</td>\n",
       "      <td>8538</td>\n",
       "    </tr>\n",
       "    <tr>\n",
       "      <th>1</th>\n",
       "      <td>McDonald's 6676, Chicago, IL | 98504</td>\n",
       "      <td>5512</td>\n",
       "    </tr>\n",
       "    <tr>\n",
       "      <th>2</th>\n",
       "      <td>Tempo Cafe,  Chicago,  IL | 7962942</td>\n",
       "      <td>2290</td>\n",
       "    </tr>\n",
       "    <tr>\n",
       "      <th>3</th>\n",
       "      <td>Maggiano's Little Italy 207, Chicago, IL | 439...</td>\n",
       "      <td>2167</td>\n",
       "    </tr>\n",
       "    <tr>\n",
       "      <th>4</th>\n",
       "      <td>Velvet Taco,  Chicago,  IL | 7962941</td>\n",
       "      <td>1440</td>\n",
       "    </tr>\n",
       "    <tr>\n",
       "      <th>5</th>\n",
       "      <td>TGI Fridays 2668 - Chicago - Erie St, Chicago,...</td>\n",
       "      <td>1433</td>\n",
       "    </tr>\n",
       "    <tr>\n",
       "      <th>6</th>\n",
       "      <td>Lou Malnatis,  Chicago,  IL | 7962940</td>\n",
       "      <td>1351</td>\n",
       "    </tr>\n",
       "    <tr>\n",
       "      <th>7</th>\n",
       "      <td>Hooters 231 - Chicago - Wells St., Chicago, IL...</td>\n",
       "      <td>991</td>\n",
       "    </tr>\n",
       "    <tr>\n",
       "      <th>8</th>\n",
       "      <td>Seoul Taco,  Chicago,  IL | 7962943</td>\n",
       "      <td>976</td>\n",
       "    </tr>\n",
       "    <tr>\n",
       "      <th>9</th>\n",
       "      <td>The Halal Guys,  Chicago,  IL | 7962944</td>\n",
       "      <td>542</td>\n",
       "    </tr>\n",
       "  </tbody>\n",
       "</table>\n",
       "</div>"
      ],
      "text/plain": [
       "                                               index  Polygon ID\n",
       "0                 Portillos,  Chicago,  IL | 7962939        8538\n",
       "1               McDonald's 6676, Chicago, IL | 98504        5512\n",
       "2                Tempo Cafe,  Chicago,  IL | 7962942        2290\n",
       "3  Maggiano's Little Italy 207, Chicago, IL | 439...        2167\n",
       "4               Velvet Taco,  Chicago,  IL | 7962941        1440\n",
       "5  TGI Fridays 2668 - Chicago - Erie St, Chicago,...        1433\n",
       "6              Lou Malnatis,  Chicago,  IL | 7962940        1351\n",
       "7  Hooters 231 - Chicago - Wells St., Chicago, IL...         991\n",
       "8                Seoul Taco,  Chicago,  IL | 7962943         976\n",
       "9            The Halal Guys,  Chicago,  IL | 7962944         542"
      ]
     },
     "execution_count": 97,
     "metadata": {},
     "output_type": "execute_result"
    }
   ],
   "source": [
    "zero_dinein = filtered_zp[filtered_zp['UDID'].isin(total_dineins)]\n",
    "zero_dinein = zero_dinein[['Polygon ID','UDID']].drop_duplicates()\n",
    "zero_dinein['Polygon ID'].value_counts().reset_index()"
   ]
  },
  {
   "cell_type": "code",
   "execution_count": 98,
   "metadata": {},
   "outputs": [],
   "source": [
    "dine_test = filtered_px[(filtered_px['UDID'].isin(din_devices))]"
   ]
  },
  {
   "cell_type": "code",
   "execution_count": 99,
   "metadata": {},
   "outputs": [],
   "source": [
    "dine_testpx = dine_test[~((dine_test['Study Polygon'] == \"McDonald's 6676, Chicago, IL | 98504\")&(dine_test['Local Date'] < '2018-08-01'))]"
   ]
  },
  {
   "cell_type": "code",
   "execution_count": 101,
   "metadata": {},
   "outputs": [],
   "source": [
    "take_test = filtered_px[(filtered_px['UDID'].isin(togo_pool))]\n",
    "take_test = take_test[~((take_test['Study Polygon'] == \"McDonald's 6676, Chicago, IL | 98504\")&\n",
    "                        (take_test['Local Date'] < '2018-08-01'))]"
   ]
  },
  {
   "cell_type": "code",
   "execution_count": 103,
   "metadata": {},
   "outputs": [],
   "source": [
    "driver_test = filtered_px[(filtered_px['UDID'].isin(driver_pool))]\n",
    "driver_test = driver_test[~((driver_test['Study Polygon'] == \"McDonald's 6676, Chicago, IL | 98504\")&\n",
    "                        (driver_test['Local Date'] < '2018-08-01'))]"
   ]
  }
 ],
 "metadata": {
  "kernelspec": {
   "display_name": "Python 3",
   "language": "python",
   "name": "python3"
  },
  "language_info": {
   "codemirror_mode": {
    "name": "ipython",
    "version": 3
   },
   "file_extension": ".py",
   "mimetype": "text/x-python",
   "name": "python",
   "nbconvert_exporter": "python",
   "pygments_lexer": "ipython3",
   "version": "3.6.8"
  }
 },
 "nbformat": 4,
 "nbformat_minor": 2
}
